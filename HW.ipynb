{
 "cells": [
  {
   "cell_type": "markdown",
   "metadata": {},
   "source": [
    "## Homework I ML in finance\n",
    "\n",
    "\n",
    "authors: Summer Negahdar, Luna Jian, Jae Jung\n"
   ]
  },
  {
   "cell_type": "code",
   "execution_count": 2,
   "metadata": {},
   "outputs": [],
   "source": [
    "import pandas as pd\n",
    "import numpy as np\n",
    "import matplotlib.pyplot as plt    \n",
    "import seaborn as sns     \n",
    "from sklearn.linear_model import LinearRegression, Lasso, Ridge, ElasticNet\n",
    "from sklearn.ensemble import GradientBoostingRegressor\n",
    "from sklearn.model_selection import KFold, cross_val_score, TimeSeriesSplit\n",
    "from sklearn.preprocessing import StandardScaler\n",
    "from sklearn.decomposition import PCA\n",
    "from sklearn.cross_decomposition import PLSRegression\n",
    "from sklearn.kernel_approximation import RBFSampler\n",
    "from sklearn.metrics import r2_score, mean_squared_error\n",
    "from sklearn.kernel_ridge import KernelRidge\n",
    "import pyarrow.parquet as pq       \n",
    "\n"
   ]
  },
  {
   "cell_type": "code",
   "execution_count": 4,
   "metadata": {},
   "outputs": [],
   "source": [
    "gw_df= pd.read_csv(\"gw.csv\")\n",
    "lsret_df= pd.read_csv(\"lsret.csv\")\n",
    "FRED_df= pd.read_csv(\"FREDMD.csv\")\n",
    "largeml_df= pd.read_parquet(\"largeml.pq\")\n",
    "smallml_df= pd.read_parquet(\"smallml.pq\")\n",
    "\n"
   ]
  }
 ],
 "metadata": {
  "kernelspec": {
   "display_name": "Python 3",
   "language": "python",
   "name": "python3"
  },
  "language_info": {
   "codemirror_mode": {
    "name": "ipython",
    "version": 3
   },
   "file_extension": ".py",
   "mimetype": "text/x-python",
   "name": "python",
   "nbconvert_exporter": "python",
   "pygments_lexer": "ipython3",
   "version": "3.9.6"
  }
 },
 "nbformat": 4,
 "nbformat_minor": 2
}
