{
 "cells": [
  {
   "cell_type": "markdown",
   "metadata": {},
   "source": [
    "## Homework I ML in finance\n",
    "\n",
    "\n",
    "authors: Summer Negahdar, Luna Jian, Jae Jung\n"
   ]
  },
  {
   "cell_type": "markdown",
   "metadata": {},
   "source": [
    "\n",
    "\n"
   ]
  },
  {
   "cell_type": "code",
   "execution_count": 19,
   "metadata": {},
   "outputs": [],
   "source": [
    "import pandas as pd\n",
    "import numpy as np\n",
    "import matplotlib.pyplot as plt\n",
    "import seaborn as sns\n",
    "from sklearn.linear_model import LassoCV, RidgeCV\n",
    "from sklearn.decomposition import PCA\n",
    "from sklearn.preprocessing import StandardScaler\n",
    "import pyarrow.parquet as pq\n",
    "import warnings\n",
    "from sklearn.exceptions import ConvergenceWarning\n",
    "\n",
    "warnings.filterwarnings(\"ignore\", category=ConvergenceWarning)"
   ]
  },
  {
   "cell_type": "code",
   "execution_count": 2,
   "metadata": {},
   "outputs": [],
   "source": [
    "gw_df= pd.read_csv(\"gw.csv\")\n",
    "lsret_df= pd.read_csv(\"lsret.csv\", index_col=0)\n",
    "FRED_df= pd.read_csv(\"FREDMD.csv\")\n",
    "largeml_df= pd.read_parquet(\"largeml.pq\")\n",
    "smallml_df= pd.read_parquet(\"smallml.pq\")\n",
    "\n"
   ]
  },
  {
   "cell_type": "markdown",
   "metadata": {},
   "source": [
    "### Question one"
   ]
  },
  {
   "cell_type": "code",
   "execution_count": null,
   "metadata": {},
   "outputs": [],
   "source": []
  },
  {
   "cell_type": "markdown",
   "metadata": {},
   "source": [
    "### Question Two"
   ]
  },
  {
   "cell_type": "code",
   "execution_count": null,
   "metadata": {},
   "outputs": [],
   "source": []
  },
  {
   "cell_type": "markdown",
   "metadata": {},
   "source": [
    "### Question Three\n",
    "\n",
    "\n",
    "a. "
   ]
  },
  {
   "cell_type": "code",
   "execution_count": null,
   "metadata": {},
   "outputs": [],
   "source": []
  },
  {
   "cell_type": "markdown",
   "metadata": {},
   "source": [
    "b. "
   ]
  },
  {
   "cell_type": "code",
   "execution_count": 10,
   "metadata": {},
   "outputs": [],
   "source": [
    "##introducing indicator column for all rows\n",
    "lsret_df['indicator']= 1 \n",
    "\n",
    "# Ensure index is datetime\n",
    "lsret_df.index = pd.to_datetime(lsret_df.index)\n",
    "\n",
    "train= lsret_df[lsret_df.index< '2004-01-01'].dropna()\n",
    "test= lsret_df[lsret_df.index >= '2004-01-01'].dropna()\n",
    "X_train= train.drop(columns= 'indicator')\n",
    "y_train= train['indicator']\n",
    "X_test= test.drop(columns= 'indicator')\n",
    "\n"
   ]
  },
  {
   "cell_type": "code",
   "execution_count": 22,
   "metadata": {},
   "outputs": [],
   "source": [
    "#I am removing low-variance features for less instability\n",
    "\n",
    "variances = X_train.var()\n",
    "low_var_cols = variances[variances < 1e-6].index\n",
    "if len(low_var_cols) > 0:\n",
    "    print(f\"Warning: Dropping {len(low_var_cols)} low-variance columns: {low_var_cols}\")\n",
    "    X_train = X_train.drop(columns=low_var_cols)\n",
    "    X_test = X_test.drop(columns=low_var_cols)\n",
    "\n",
    "# scaling features for LASSO and RR\n",
    "scaler = StandardScaler()\n",
    "X_train_scaled = scaler.fit_transform(X_train)\n",
    "X_test_scaled = scaler.transform(X_test)\n"
   ]
  },
  {
   "cell_type": "code",
   "execution_count": 23,
   "metadata": {},
   "outputs": [
    {
     "name": "stdout",
     "output_type": "stream",
     "text": [
      "Columns with zero variance: 0\n",
      "Duplicated columns: 0\n",
      "NaNs in X_train_scaled: 0\n",
      "Infs in X_train_scaled: 0\n"
     ]
    }
   ],
   "source": [
    "## I am just checking for a few things bc I keep getting LAsso errors\n",
    "print(\"Columns with zero variance:\", (X_train == 0).all().sum())\n",
    "print(\"Duplicated columns:\", X_train.T.duplicated().sum())\n",
    "print(\"NaNs in X_train_scaled:\", np.isnan(X_train_scaled).sum())\n",
    "print(\"Infs in X_train_scaled:\", np.isinf(X_train_scaled).sum())"
   ]
  },
  {
   "cell_type": "code",
   "execution_count": 24,
   "metadata": {},
   "outputs": [],
   "source": [
    "#fitting lasso and ridge\n",
    "lasso = LassoCV(\n",
    "    cv=5,\n",
    "    random_state=42,\n",
    "    max_iter=50000,\n",
    "    tol=1e-2,\n",
    "    alphas=np.logspace(-3, -0.5, 30)\n",
    ").fit(X_train_scaled, y_train)\n",
    "\n",
    "\n",
    "\n",
    "##I got an error message that in finance means they features are closely correlated. that is why \n",
    "# I am increasing number of iterations from 10k to 50k\n",
    "# relaxing the tolerance\n",
    "# changing alphas to a smaller range. \n"
   ]
  },
  {
   "cell_type": "code",
   "execution_count": 21,
   "metadata": {},
   "outputs": [],
   "source": [
    "## Now RR\n",
    "ridge = RidgeCV(cv=5, alphas=[0.1, 1.0, 10.0]).fit(X_train_scaled, y_train)"
   ]
  },
  {
   "cell_type": "code",
   "execution_count": 25,
   "metadata": {},
   "outputs": [],
   "source": [
    "# Normalize weights\n",
    "def normalize_weights(coef, model_name):\n",
    "    total = np.sum(np.abs(coef))\n",
    "    if total < 1e-10:\n",
    "        print(f\"Warning: {model_name} coefficients sum to near zero; using equal weights\")\n",
    "        return np.ones(len(coef)) / len(coef)\n",
    "    return coef / total"
   ]
  },
  {
   "cell_type": "code",
   "execution_count": 28,
   "metadata": {},
   "outputs": [
    {
     "name": "stdout",
     "output_type": "stream",
     "text": [
      "Lasso Coefs: [0. 0. 0. 0. 0. 0. 0. 0. 0. 0. 0. 0. 0. 0. 0. 0. 0. 0. 0. 0. 0. 0. 0. 0.\n",
      " 0. 0. 0. 0. 0. 0. 0. 0. 0. 0. 0. 0. 0. 0. 0. 0. 0. 0. 0. 0. 0. 0. 0. 0.\n",
      " 0. 0. 0. 0. 0. 0. 0. 0. 0. 0. 0. 0. 0. 0. 0. 0. 0. 0. 0. 0. 0. 0. 0. 0.\n",
      " 0. 0. 0. 0. 0. 0. 0. 0. 0. 0. 0. 0. 0. 0. 0. 0. 0. 0. 0. 0. 0. 0. 0. 0.\n",
      " 0. 0. 0. 0. 0. 0. 0. 0. 0. 0. 0. 0. 0. 0. 0. 0. 0. 0. 0. 0. 0. 0. 0. 0.\n",
      " 0. 0. 0. 0. 0. 0. 0. 0. 0. 0. 0. 0. 0. 0. 0. 0. 0. 0. 0. 0. 0. 0. 0. 0.\n",
      " 0. 0. 0. 0. 0. 0. 0. 0. 0. 0. 0. 0. 0. 0. 0. 0. 0. 0. 0. 0. 0. 0. 0. 0.\n",
      " 0. 0. 0. 0. 0. 0. 0. 0. 0. 0. 0. 0. 0. 0. 0. 0. 0. 0. 0. 0. 0. 0. 0. 0.\n",
      " 0. 0. 0. 0. 0. 0. 0. 0. 0. 0. 0. 0. 0. 0. 0. 0. 0. 0. 0. 0.]\n",
      "Ridge Coefs: [0. 0. 0. 0. 0. 0. 0. 0. 0. 0. 0. 0. 0. 0. 0. 0. 0. 0. 0. 0. 0. 0. 0. 0.\n",
      " 0. 0. 0. 0. 0. 0. 0. 0. 0. 0. 0. 0. 0. 0. 0. 0. 0. 0. 0. 0. 0. 0. 0. 0.\n",
      " 0. 0. 0. 0. 0. 0. 0. 0. 0. 0. 0. 0. 0. 0. 0. 0. 0. 0. 0. 0. 0. 0. 0. 0.\n",
      " 0. 0. 0. 0. 0. 0. 0. 0. 0. 0. 0. 0. 0. 0. 0. 0. 0. 0. 0. 0. 0. 0. 0. 0.\n",
      " 0. 0. 0. 0. 0. 0. 0. 0. 0. 0. 0. 0. 0. 0. 0. 0. 0. 0. 0. 0. 0. 0. 0. 0.\n",
      " 0. 0. 0. 0. 0. 0. 0. 0. 0. 0. 0. 0. 0. 0. 0. 0. 0. 0. 0. 0. 0. 0. 0. 0.\n",
      " 0. 0. 0. 0. 0. 0. 0. 0. 0. 0. 0. 0. 0. 0. 0. 0. 0. 0. 0. 0. 0. 0. 0. 0.\n",
      " 0. 0. 0. 0. 0. 0. 0. 0. 0. 0. 0. 0. 0. 0. 0. 0. 0. 0. 0. 0. 0. 0. 0. 0.\n",
      " 0. 0. 0. 0. 0. 0. 0. 0. 0. 0. 0. 0. 0. 0. 0. 0. 0. 0. 0. 0.]\n"
     ]
    }
   ],
   "source": [
    "print(\"Lasso Coefs:\", lasso.coef_)\n",
    "print(\"Ridge Coefs:\", ridge.coef_)"
   ]
  },
  {
   "cell_type": "markdown",
   "metadata": {},
   "source": [
    "so the coefficients for LAsso and ridge (which does not cancel out any coef) is zero. this suggests that there is no combination of long-short portfolios that return a flat rate of 1. and since all coefs are zero, our weights will be equally set across all of them. "
   ]
  },
  {
   "cell_type": "code",
   "execution_count": 29,
   "metadata": {},
   "outputs": [
    {
     "name": "stdout",
     "output_type": "stream",
     "text": [
      "Warning: Lasso coefficients sum to near zero; using equal weights\n",
      "Warning: Ridge coefficients sum to near zero; using equal weights\n"
     ]
    }
   ],
   "source": [
    "w_lasso = normalize_weights(lasso.coef_, \"Lasso\")\n",
    "w_ridge = normalize_weights(ridge.coef_, \"Ridge\")\n",
    "\n",
    "# Portfolio returns\n",
    "port_lasso = (X_test @ w_lasso).rename('Lasso Portfolio')  # Use original X_test for returns\n",
    "port_ridge = (X_test @ w_ridge).rename('Ridge Portfolio')\n"
   ]
  },
  {
   "cell_type": "markdown",
   "metadata": {},
   "source": [
    "the formula for sharpe ratio will be\n",
    "\n",
    "$\n",
    "\\text{Sharpe Ratio} = \\frac{\\mathbb{E}[R_p] \\times 12}{\\sigma(R_p) \\times \\sqrt{12}}\n",
    "$"
   ]
  },
  {
   "cell_type": "code",
   "execution_count": 30,
   "metadata": {},
   "outputs": [
    {
     "name": "stdout",
     "output_type": "stream",
     "text": [
      "Lasso Sharpe Ratio: 1.844\n",
      "Ridge Sharpe Ratio: 1.844\n"
     ]
    }
   ],
   "source": [
    "\n",
    "# Sharpe ratios\n",
    "def compute_sharpe(returns, model_name):\n",
    "    mean = returns.mean() * 12\n",
    "    std = returns.std() * np.sqrt(12)\n",
    "    if std < 1e-10:\n",
    "        print(f\"Warning: {model_name} portfolio has near-zero volatility\")\n",
    "        return np.nan\n",
    "    return mean / std\n",
    "\n",
    "sharpe_lasso = compute_sharpe(port_lasso, \"Lasso\")\n",
    "sharpe_ridge = compute_sharpe(port_ridge, \"Ridge\")\n",
    "print(f\"Lasso Sharpe Ratio: {sharpe_lasso:.3f}\")\n",
    "print(f\"Ridge Sharpe Ratio: {sharpe_ridge:.3f}\")"
   ]
  },
  {
   "cell_type": "markdown",
   "metadata": {},
   "source": [
    "as we mentioned before, since the coefs are zero and weights are equal, then the sharpe ratio for both of them will be the same. in this case it will be 1.844 . sharpe ratio measures for risk-adjusted return on the portfolio and in our case the sharpe ratio is considered \"good\". this implies that the diversification of portfolio will decrease the risk and increase the expected retun on our portfolio even though we failed to \"optamize\" using Lasso and RR. "
   ]
  }
 ],
 "metadata": {
  "kernelspec": {
   "display_name": "Python 3",
   "language": "python",
   "name": "python3"
  },
  "language_info": {
   "codemirror_mode": {
    "name": "ipython",
    "version": 3
   },
   "file_extension": ".py",
   "mimetype": "text/x-python",
   "name": "python",
   "nbconvert_exporter": "python",
   "pygments_lexer": "ipython3",
   "version": "3.9.6"
  }
 },
 "nbformat": 4,
 "nbformat_minor": 2
}
